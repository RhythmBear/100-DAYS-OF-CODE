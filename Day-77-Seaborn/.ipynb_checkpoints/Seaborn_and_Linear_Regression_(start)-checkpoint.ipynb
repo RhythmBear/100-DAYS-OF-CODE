{
 "cells": [
  {
   "cell_type": "markdown",
   "metadata": {
    "id": "gltiGJhvrzaL"
   },
   "source": [
    "# Introduction\n",
    "\n",
    "Do higher film budgets lead to more box office revenue? Let's find out if there's a relationship using the movie budgets and financial performance data that I've scraped from [the-numbers.com](https://www.the-numbers.com/movie/budgets) on **May 1st, 2018**. \n",
    "\n",
    "<img src=https://i.imgur.com/kq7hrEh.png>"
   ]
  },
  {
   "cell_type": "markdown",
   "metadata": {
    "id": "zkLrvlKvtdih"
   },
   "source": [
    "# Import Statements"
   ]
  },
  {
   "cell_type": "code",
   "execution_count": 1,
   "metadata": {
    "id": "NpDk_q_Urroj"
   },
   "outputs": [],
   "source": [
    "import pandas as pd\n",
    "import matplotlib.pyplot as plt\n"
   ]
  },
  {
   "cell_type": "markdown",
   "metadata": {
    "id": "x5B-UDvXtnC6"
   },
   "source": [
    "# Notebook Presentation"
   ]
  },
  {
   "cell_type": "code",
   "execution_count": null,
   "metadata": {
    "id": "nM_otvWztjpT"
   },
   "outputs": [],
   "source": [
    "pd.options.display.float_format = '{:,.2f}'.format\n",
    "\n",
    "from pandas.plotting import register_matplotlib_converters\n",
    "register_matplotlib_converters()\n"
   ]
  },
  {
   "cell_type": "markdown",
   "metadata": {
    "id": "v-fnwNYJtthe"
   },
   "source": [
    "# Read the Data"
   ]
  },
  {
   "cell_type": "code",
   "execution_count": 2,
   "metadata": {
    "id": "xhwvQQWitrf4"
   },
   "outputs": [],
   "source": [
    "data = pd.read_csv('cost_revenue_dirty.csv')"
   ]
  },
  {
   "cell_type": "markdown",
   "metadata": {
    "id": "tbg8_J5SuHhs"
   },
   "source": [
    "# Explore and Clean the Data"
   ]
  },
  {
   "cell_type": "markdown",
   "metadata": {
    "id": "xAtdcURCuL0Z"
   },
   "source": [
    "**Challenge**: Answer these questions about the dataset:\n",
    "1. How many rows and columns does the dataset contain?\n",
    "2. Are there any NaN values present?\n",
    "3. Are there any duplicate rows?\n",
    "4. What are the data types of the columns?"
   ]
  },
  {
   "cell_type": "code",
   "execution_count": 9,
   "metadata": {
    "id": "PV3KLBSVTMDN"
   },
   "outputs": [
    {
     "name": "stdout",
     "output_type": "stream",
     "text": [
      "The Orignal data has 5391 columns and 6 rows\n"
     ]
    },
    {
     "data": {
      "text/html": [
       "<div>\n",
       "<style scoped>\n",
       "    .dataframe tbody tr th:only-of-type {\n",
       "        vertical-align: middle;\n",
       "    }\n",
       "\n",
       "    .dataframe tbody tr th {\n",
       "        vertical-align: top;\n",
       "    }\n",
       "\n",
       "    .dataframe thead th {\n",
       "        text-align: right;\n",
       "    }\n",
       "</style>\n",
       "<table border=\"1\" class=\"dataframe\">\n",
       "  <thead>\n",
       "    <tr style=\"text-align: right;\">\n",
       "      <th></th>\n",
       "      <th>Rank</th>\n",
       "      <th>Release_Date</th>\n",
       "      <th>Movie_Title</th>\n",
       "      <th>USD_Production_Budget</th>\n",
       "      <th>USD_Worldwide_Gross</th>\n",
       "      <th>USD_Domestic_Gross</th>\n",
       "    </tr>\n",
       "  </thead>\n",
       "  <tbody>\n",
       "  </tbody>\n",
       "</table>\n",
       "</div>"
      ],
      "text/plain": [
       "Empty DataFrame\n",
       "Columns: [Rank, Release_Date, Movie_Title, USD_Production_Budget, USD_Worldwide_Gross, USD_Domestic_Gross]\n",
       "Index: []"
      ]
     },
     "execution_count": 9,
     "metadata": {},
     "output_type": "execute_result"
    }
   ],
   "source": [
    "data.head()\n",
    "data.isna()\n",
    "print(f\"The Orignal data has {data.shape[0]} columns and {data.shape[1]} rows\")\n",
    "\n",
    "# Drop Nan values from the Database.\n",
    "clean_data =data.dropna()\n",
    "clean_data.shape\n",
    "\n",
    "# Find and remove all duplicate files\n",
    "duplicates = clean_data[clean_data.duplicated(keep=\"first\")]\n",
    "duplicates"
   ]
  },
  {
   "cell_type": "markdown",
   "metadata": {
    "id": "v8spadDNvpVG"
   },
   "source": [
    "### Data Type Conversions"
   ]
  },
  {
   "cell_type": "markdown",
   "metadata": {
    "id": "9F8KFST4ulrd"
   },
   "source": [
    "**Challenge**: Convert the `USD_Production_Budget`, `USD_Worldwide_Gross`, and `USD_Domestic_Gross` columns to a numeric format by removing `$` signs and `,`. \n",
    "<br>\n",
    "<br>\n",
    "Note that *domestic* in this context refers to the United States."
   ]
  },
  {
   "cell_type": "code",
   "execution_count": 12,
   "metadata": {
    "id": "BmdCbLf-TPXk"
   },
   "outputs": [
    {
     "name": "stderr",
     "output_type": "stream",
     "text": [
      "C:\\Users\\EMMANUEL\\AppData\\Local\\Temp\\ipykernel_11160\\3662635917.py:4: FutureWarning: The default value of regex will change from True to False in a future version. In addition, single character regular expressions will *not* be treated as literal strings when regex=True.\n",
      "  clean_data.USD_Production_Budget = clean_data.USD_Production_Budget.astype(str).str.replace('$', '')\n",
      "C:\\Users\\EMMANUEL\\AppData\\Local\\Temp\\ipykernel_11160\\3662635917.py:9: FutureWarning: The default value of regex will change from True to False in a future version. In addition, single character regular expressions will *not* be treated as literal strings when regex=True.\n",
      "  clean_data.USD_Worldwide_Gross = clean_data.USD_Worldwide_Gross.astype(str).str.replace('$', '')\n",
      "C:\\Users\\EMMANUEL\\AppData\\Local\\Temp\\ipykernel_11160\\3662635917.py:14: FutureWarning: The default value of regex will change from True to False in a future version. In addition, single character regular expressions will *not* be treated as literal strings when regex=True.\n",
      "  clean_data.USD_Domestic_Gross = clean_data.USD_Domestic_Gross.astype(str).str.replace('$', '')\n"
     ]
    },
    {
     "data": {
      "text/html": [
       "<div>\n",
       "<style scoped>\n",
       "    .dataframe tbody tr th:only-of-type {\n",
       "        vertical-align: middle;\n",
       "    }\n",
       "\n",
       "    .dataframe tbody tr th {\n",
       "        vertical-align: top;\n",
       "    }\n",
       "\n",
       "    .dataframe thead th {\n",
       "        text-align: right;\n",
       "    }\n",
       "</style>\n",
       "<table border=\"1\" class=\"dataframe\">\n",
       "  <thead>\n",
       "    <tr style=\"text-align: right;\">\n",
       "      <th></th>\n",
       "      <th>Rank</th>\n",
       "      <th>Release_Date</th>\n",
       "      <th>Movie_Title</th>\n",
       "      <th>USD_Production_Budget</th>\n",
       "      <th>USD_Worldwide_Gross</th>\n",
       "      <th>USD_Domestic_Gross</th>\n",
       "    </tr>\n",
       "  </thead>\n",
       "  <tbody>\n",
       "    <tr>\n",
       "      <th>0</th>\n",
       "      <td>5293</td>\n",
       "      <td>8/2/1915</td>\n",
       "      <td>The Birth of a Nation</td>\n",
       "      <td>110000</td>\n",
       "      <td>11000000</td>\n",
       "      <td>10000000</td>\n",
       "    </tr>\n",
       "    <tr>\n",
       "      <th>1</th>\n",
       "      <td>5140</td>\n",
       "      <td>5/9/1916</td>\n",
       "      <td>Intolerance</td>\n",
       "      <td>385907</td>\n",
       "      <td>0</td>\n",
       "      <td>0</td>\n",
       "    </tr>\n",
       "    <tr>\n",
       "      <th>2</th>\n",
       "      <td>5230</td>\n",
       "      <td>12/24/1916</td>\n",
       "      <td>20,000 Leagues Under the Sea</td>\n",
       "      <td>200000</td>\n",
       "      <td>8000000</td>\n",
       "      <td>8000000</td>\n",
       "    </tr>\n",
       "    <tr>\n",
       "      <th>3</th>\n",
       "      <td>5299</td>\n",
       "      <td>9/17/1920</td>\n",
       "      <td>Over the Hill to the Poorhouse</td>\n",
       "      <td>100000</td>\n",
       "      <td>3000000</td>\n",
       "      <td>3000000</td>\n",
       "    </tr>\n",
       "    <tr>\n",
       "      <th>4</th>\n",
       "      <td>5222</td>\n",
       "      <td>1/1/1925</td>\n",
       "      <td>The Big Parade</td>\n",
       "      <td>245000</td>\n",
       "      <td>22000000</td>\n",
       "      <td>11000000</td>\n",
       "    </tr>\n",
       "  </tbody>\n",
       "</table>\n",
       "</div>"
      ],
      "text/plain": [
       "   Rank Release_Date                     Movie_Title  USD_Production_Budget  \\\n",
       "0  5293     8/2/1915           The Birth of a Nation                 110000   \n",
       "1  5140     5/9/1916                     Intolerance                 385907   \n",
       "2  5230   12/24/1916    20,000 Leagues Under the Sea                 200000   \n",
       "3  5299    9/17/1920  Over the Hill to the Poorhouse                 100000   \n",
       "4  5222     1/1/1925                  The Big Parade                 245000   \n",
       "\n",
       "   USD_Worldwide_Gross  USD_Domestic_Gross  \n",
       "0             11000000            10000000  \n",
       "1                    0                   0  \n",
       "2              8000000             8000000  \n",
       "3              3000000             3000000  \n",
       "4             22000000            11000000  "
      ]
     },
     "execution_count": 12,
     "metadata": {},
     "output_type": "execute_result"
    }
   ],
   "source": [
    "clean_data.head()\n",
    "\n",
    "# Convert the Values with USD to integers\n",
    "clean_data.USD_Production_Budget = clean_data.USD_Production_Budget.astype(str).str.replace('$', '')\n",
    "clean_data.USD_Production_Budget = clean_data.USD_Production_Budget.astype(str).str.replace(',', '')\n",
    "clean_data.USD_Production_Budget = pd.to_numeric(clean_data.USD_Production_Budget)\n",
    "\n",
    "# Replacing the , and $ with nothing\n",
    "clean_data.USD_Worldwide_Gross = clean_data.USD_Worldwide_Gross.astype(str).str.replace('$', '')\n",
    "clean_data.USD_Worldwide_Gross = clean_data.USD_Worldwide_Gross.astype(str).str.replace(',', '')\n",
    "clean_data.USD_Worldwide_Gross = pd.to_numeric(clean_data.USD_Worldwide_Gross)\n",
    "\n",
    "# Replacing the , and $ with nothing\n",
    "clean_data.USD_Domestic_Gross = clean_data.USD_Domestic_Gross.astype(str).str.replace('$', '')\n",
    "clean_data.USD_Domestic_Gross = clean_data.USD_Domestic_Gross.astype(str).str.replace(',', '')\n",
    "clean_data.USD_Domestic_Gross = pd.to_numeric(clean_data.USD_Domestic_Gross)\n",
    "\n",
    "clean_data.head()"
   ]
  },
  {
   "cell_type": "markdown",
   "metadata": {
    "id": "cA01iJHkvWhl"
   },
   "source": [
    "**Challenge**: Convert the `Release_Date` column to a Pandas Datetime type. "
   ]
  },
  {
   "cell_type": "code",
   "execution_count": 20,
   "metadata": {
    "id": "Pq1WfvRnTRU6"
   },
   "outputs": [
    {
     "data": {
      "text/html": [
       "<div>\n",
       "<style scoped>\n",
       "    .dataframe tbody tr th:only-of-type {\n",
       "        vertical-align: middle;\n",
       "    }\n",
       "\n",
       "    .dataframe tbody tr th {\n",
       "        vertical-align: top;\n",
       "    }\n",
       "\n",
       "    .dataframe thead th {\n",
       "        text-align: right;\n",
       "    }\n",
       "</style>\n",
       "<table border=\"1\" class=\"dataframe\">\n",
       "  <thead>\n",
       "    <tr style=\"text-align: right;\">\n",
       "      <th></th>\n",
       "      <th>Rank</th>\n",
       "      <th>Release_Date</th>\n",
       "      <th>Movie_Title</th>\n",
       "      <th>USD_Production_Budget</th>\n",
       "      <th>USD_Worldwide_Gross</th>\n",
       "      <th>USD_Domestic_Gross</th>\n",
       "    </tr>\n",
       "  </thead>\n",
       "  <tbody>\n",
       "    <tr>\n",
       "      <th>0</th>\n",
       "      <td>5293</td>\n",
       "      <td>1915-08-02</td>\n",
       "      <td>The Birth of a Nation</td>\n",
       "      <td>110000</td>\n",
       "      <td>11000000</td>\n",
       "      <td>10000000</td>\n",
       "    </tr>\n",
       "    <tr>\n",
       "      <th>1</th>\n",
       "      <td>5140</td>\n",
       "      <td>1916-05-09</td>\n",
       "      <td>Intolerance</td>\n",
       "      <td>385907</td>\n",
       "      <td>0</td>\n",
       "      <td>0</td>\n",
       "    </tr>\n",
       "    <tr>\n",
       "      <th>2</th>\n",
       "      <td>5230</td>\n",
       "      <td>1916-12-24</td>\n",
       "      <td>20,000 Leagues Under the Sea</td>\n",
       "      <td>200000</td>\n",
       "      <td>8000000</td>\n",
       "      <td>8000000</td>\n",
       "    </tr>\n",
       "    <tr>\n",
       "      <th>3</th>\n",
       "      <td>5299</td>\n",
       "      <td>1920-09-17</td>\n",
       "      <td>Over the Hill to the Poorhouse</td>\n",
       "      <td>100000</td>\n",
       "      <td>3000000</td>\n",
       "      <td>3000000</td>\n",
       "    </tr>\n",
       "    <tr>\n",
       "      <th>4</th>\n",
       "      <td>5222</td>\n",
       "      <td>1925-01-01</td>\n",
       "      <td>The Big Parade</td>\n",
       "      <td>245000</td>\n",
       "      <td>22000000</td>\n",
       "      <td>11000000</td>\n",
       "    </tr>\n",
       "  </tbody>\n",
       "</table>\n",
       "</div>"
      ],
      "text/plain": [
       "   Rank Release_Date                     Movie_Title  USD_Production_Budget  \\\n",
       "0  5293   1915-08-02           The Birth of a Nation                 110000   \n",
       "1  5140   1916-05-09                     Intolerance                 385907   \n",
       "2  5230   1916-12-24    20,000 Leagues Under the Sea                 200000   \n",
       "3  5299   1920-09-17  Over the Hill to the Poorhouse                 100000   \n",
       "4  5222   1925-01-01                  The Big Parade                 245000   \n",
       "\n",
       "   USD_Worldwide_Gross  USD_Domestic_Gross  \n",
       "0             11000000            10000000  \n",
       "1                    0                   0  \n",
       "2              8000000             8000000  \n",
       "3              3000000             3000000  \n",
       "4             22000000            11000000  "
      ]
     },
     "execution_count": 20,
     "metadata": {},
     "output_type": "execute_result"
    }
   ],
   "source": [
    "# converting the release date column to a datetime module\n",
    "clean_data['Release_Date'] = pd.to_datetime(clean_data['Release_Date'])\n",
    "clean_data.head()"
   ]
  },
  {
   "cell_type": "markdown",
   "metadata": {
    "id": "NkwmJO3tvt5i"
   },
   "source": [
    "### Descriptive Statistics"
   ]
  },
  {
   "cell_type": "markdown",
   "metadata": {
    "id": "bnb54thrvx5r"
   },
   "source": [
    "**Challenge**: \n",
    "\n",
    "1. What is the average production budget of the films in the data set?\n",
    "2. What is the average worldwide gross revenue of films?\n",
    "3. What were the minimums for worldwide and domestic revenue?\n",
    "4. Are the bottom 25% of films actually profitable or do they lose money?\n",
    "5. What are the highest production budget and highest worldwide gross revenue of any film?\n",
    "6. How much revenue did the lowest and highest budget films make?"
   ]
  },
  {
   "cell_type": "code",
   "execution_count": 25,
   "metadata": {
    "id": "8G5_FATFTTtb"
   },
   "outputs": [
    {
     "name": "stdout",
     "output_type": "stream",
     "text": [
      "The average Production budget of the films in the data_set is: $31113737.58\n",
      "The average World_wide Gross of the films in the data_set is: $88855421.96\n",
      "The minimum for the Worldwide revenue was: $0 \n",
      "The minimum for domestic Revenue was: $0\n"
     ]
    },
    {
     "data": {
      "text/html": [
       "<div>\n",
       "<style scoped>\n",
       "    .dataframe tbody tr th:only-of-type {\n",
       "        vertical-align: middle;\n",
       "    }\n",
       "\n",
       "    .dataframe tbody tr th {\n",
       "        vertical-align: top;\n",
       "    }\n",
       "\n",
       "    .dataframe thead th {\n",
       "        text-align: right;\n",
       "    }\n",
       "</style>\n",
       "<table border=\"1\" class=\"dataframe\">\n",
       "  <thead>\n",
       "    <tr style=\"text-align: right;\">\n",
       "      <th></th>\n",
       "      <th>Rank</th>\n",
       "      <th>USD_Production_Budget</th>\n",
       "      <th>USD_Worldwide_Gross</th>\n",
       "      <th>USD_Domestic_Gross</th>\n",
       "    </tr>\n",
       "  </thead>\n",
       "  <tbody>\n",
       "    <tr>\n",
       "      <th>count</th>\n",
       "      <td>5391.000000</td>\n",
       "      <td>5.391000e+03</td>\n",
       "      <td>5.391000e+03</td>\n",
       "      <td>5.391000e+03</td>\n",
       "    </tr>\n",
       "    <tr>\n",
       "      <th>mean</th>\n",
       "      <td>2696.000000</td>\n",
       "      <td>3.111374e+07</td>\n",
       "      <td>8.885542e+07</td>\n",
       "      <td>4.123552e+07</td>\n",
       "    </tr>\n",
       "    <tr>\n",
       "      <th>std</th>\n",
       "      <td>1556.391981</td>\n",
       "      <td>4.052380e+07</td>\n",
       "      <td>1.684578e+08</td>\n",
       "      <td>6.602935e+07</td>\n",
       "    </tr>\n",
       "    <tr>\n",
       "      <th>min</th>\n",
       "      <td>1.000000</td>\n",
       "      <td>1.100000e+03</td>\n",
       "      <td>0.000000e+00</td>\n",
       "      <td>0.000000e+00</td>\n",
       "    </tr>\n",
       "    <tr>\n",
       "      <th>25%</th>\n",
       "      <td>1348.500000</td>\n",
       "      <td>5.000000e+06</td>\n",
       "      <td>3.865206e+06</td>\n",
       "      <td>1.330902e+06</td>\n",
       "    </tr>\n",
       "    <tr>\n",
       "      <th>50%</th>\n",
       "      <td>2696.000000</td>\n",
       "      <td>1.700000e+07</td>\n",
       "      <td>2.745045e+07</td>\n",
       "      <td>1.719220e+07</td>\n",
       "    </tr>\n",
       "    <tr>\n",
       "      <th>75%</th>\n",
       "      <td>4043.500000</td>\n",
       "      <td>4.000000e+07</td>\n",
       "      <td>9.645446e+07</td>\n",
       "      <td>5.234369e+07</td>\n",
       "    </tr>\n",
       "    <tr>\n",
       "      <th>max</th>\n",
       "      <td>5391.000000</td>\n",
       "      <td>4.250000e+08</td>\n",
       "      <td>2.783919e+09</td>\n",
       "      <td>9.366622e+08</td>\n",
       "    </tr>\n",
       "  </tbody>\n",
       "</table>\n",
       "</div>"
      ],
      "text/plain": [
       "              Rank  USD_Production_Budget  USD_Worldwide_Gross  \\\n",
       "count  5391.000000           5.391000e+03         5.391000e+03   \n",
       "mean   2696.000000           3.111374e+07         8.885542e+07   \n",
       "std    1556.391981           4.052380e+07         1.684578e+08   \n",
       "min       1.000000           1.100000e+03         0.000000e+00   \n",
       "25%    1348.500000           5.000000e+06         3.865206e+06   \n",
       "50%    2696.000000           1.700000e+07         2.745045e+07   \n",
       "75%    4043.500000           4.000000e+07         9.645446e+07   \n",
       "max    5391.000000           4.250000e+08         2.783919e+09   \n",
       "\n",
       "       USD_Domestic_Gross  \n",
       "count        5.391000e+03  \n",
       "mean         4.123552e+07  \n",
       "std          6.602935e+07  \n",
       "min          0.000000e+00  \n",
       "25%          1.330902e+06  \n",
       "50%          1.719220e+07  \n",
       "75%          5.234369e+07  \n",
       "max          9.366622e+08  "
      ]
     },
     "execution_count": 25,
     "metadata": {},
     "output_type": "execute_result"
    }
   ],
   "source": [
    "# Average Production budget of the films in the Dataset\n",
    "print(f\"The average Production budget of the films in the data_set is: ${round(clean_data.USD_Production_Budget.mean(), 2)}\")\n",
    "print(f\"The average World_wide Gross of the films in the data_set is: ${round(clean_data.USD_Worldwide_Gross.mean(), 2)}\")\n",
    "print(f\"The minimum for the Worldwide revenue was: ${clean_data.USD_Worldwide_Gross.min()} \\nThe minimum for domestic Revenue was: ${clean_data.USD_Domestic_Gross.min()}\")\n",
    "\n",
    "clean_data.describe()"
   ]
  },
  {
   "cell_type": "markdown",
   "metadata": {
    "id": "Cj-ug32JyEhp"
   },
   "source": [
    "# Investigating the Zero Revenue Films"
   ]
  },
  {
   "cell_type": "markdown",
   "metadata": {
    "id": "U9hm-pb4xTjY"
   },
   "source": [
    "**Challenge** How many films grossed $0 domestically (i.e., in the United States)? What were the highest budget films that grossed nothing?"
   ]
  },
  {
   "cell_type": "code",
   "execution_count": 37,
   "metadata": {
    "id": "MXuRYdy0TWkt"
   },
   "outputs": [
    {
     "name": "stdout",
     "output_type": "stream",
     "text": [
      "THe HIGHEST BUDGET FILMS THAt HAD NO REVENUE DOMESTICALLY\n"
     ]
    },
    {
     "data": {
      "text/html": [
       "<div>\n",
       "<style scoped>\n",
       "    .dataframe tbody tr th:only-of-type {\n",
       "        vertical-align: middle;\n",
       "    }\n",
       "\n",
       "    .dataframe tbody tr th {\n",
       "        vertical-align: top;\n",
       "    }\n",
       "\n",
       "    .dataframe thead th {\n",
       "        text-align: right;\n",
       "    }\n",
       "</style>\n",
       "<table border=\"1\" class=\"dataframe\">\n",
       "  <thead>\n",
       "    <tr style=\"text-align: right;\">\n",
       "      <th></th>\n",
       "      <th>Rank</th>\n",
       "      <th>Release_Date</th>\n",
       "      <th>Movie_Title</th>\n",
       "      <th>USD_Production_Budget</th>\n",
       "      <th>USD_Worldwide_Gross</th>\n",
       "      <th>USD_Domestic_Gross</th>\n",
       "    </tr>\n",
       "  </thead>\n",
       "  <tbody>\n",
       "    <tr>\n",
       "      <th>5388</th>\n",
       "      <td>96</td>\n",
       "      <td>2020-12-31</td>\n",
       "      <td>Singularity</td>\n",
       "      <td>175000000</td>\n",
       "      <td>0</td>\n",
       "      <td>0</td>\n",
       "    </tr>\n",
       "    <tr>\n",
       "      <th>5387</th>\n",
       "      <td>126</td>\n",
       "      <td>2018-12-18</td>\n",
       "      <td>Aquaman</td>\n",
       "      <td>160000000</td>\n",
       "      <td>0</td>\n",
       "      <td>0</td>\n",
       "    </tr>\n",
       "    <tr>\n",
       "      <th>5384</th>\n",
       "      <td>321</td>\n",
       "      <td>2018-09-03</td>\n",
       "      <td>A Wrinkle in Time</td>\n",
       "      <td>103000000</td>\n",
       "      <td>0</td>\n",
       "      <td>0</td>\n",
       "    </tr>\n",
       "    <tr>\n",
       "      <th>5385</th>\n",
       "      <td>366</td>\n",
       "      <td>2018-10-08</td>\n",
       "      <td>Amusement Park</td>\n",
       "      <td>100000000</td>\n",
       "      <td>0</td>\n",
       "      <td>0</td>\n",
       "    </tr>\n",
       "    <tr>\n",
       "      <th>5090</th>\n",
       "      <td>556</td>\n",
       "      <td>2015-12-31</td>\n",
       "      <td>Don Gato, el inicio de la pandilla</td>\n",
       "      <td>80000000</td>\n",
       "      <td>4547660</td>\n",
       "      <td>0</td>\n",
       "    </tr>\n",
       "  </tbody>\n",
       "</table>\n",
       "</div>"
      ],
      "text/plain": [
       "      Rank Release_Date                         Movie_Title  \\\n",
       "5388    96   2020-12-31                         Singularity   \n",
       "5387   126   2018-12-18                             Aquaman   \n",
       "5384   321   2018-09-03                   A Wrinkle in Time   \n",
       "5385   366   2018-10-08                      Amusement Park   \n",
       "5090   556   2015-12-31  Don Gato, el inicio de la pandilla   \n",
       "\n",
       "      USD_Production_Budget  USD_Worldwide_Gross  USD_Domestic_Gross  \n",
       "5388              175000000                    0                   0  \n",
       "5387              160000000                    0                   0  \n",
       "5384              103000000                    0                   0  \n",
       "5385              100000000                    0                   0  \n",
       "5090               80000000              4547660                   0  "
      ]
     },
     "execution_count": 37,
     "metadata": {},
     "output_type": "execute_result"
    }
   ],
   "source": [
    "df_domestic_0 = clean_data[clean_data.USD_Domestic_Gross == 0]\n",
    "df_domestic_0 = df_domestic_0.sort_values(\"USD_Production_Budget\", ascending=False)\n",
    "\n",
    "print(\"THe HIGHEST BUDGET FILMS THAt HAD NO REVENUE DOMESTICALLY\")\n",
    "df_domestic_0.head()"
   ]
  },
  {
   "cell_type": "markdown",
   "metadata": {
    "id": "mY8SAwI0x73b"
   },
   "source": [
    "**Challenge**: How many films grossed $0 worldwide? What are the highest budget films that had no revenue internationally?"
   ]
  },
  {
   "cell_type": "code",
   "execution_count": 36,
   "metadata": {
    "id": "VpfocexxTXym"
   },
   "outputs": [
    {
     "data": {
      "text/html": [
       "<div>\n",
       "<style scoped>\n",
       "    .dataframe tbody tr th:only-of-type {\n",
       "        vertical-align: middle;\n",
       "    }\n",
       "\n",
       "    .dataframe tbody tr th {\n",
       "        vertical-align: top;\n",
       "    }\n",
       "\n",
       "    .dataframe thead th {\n",
       "        text-align: right;\n",
       "    }\n",
       "</style>\n",
       "<table border=\"1\" class=\"dataframe\">\n",
       "  <thead>\n",
       "    <tr style=\"text-align: right;\">\n",
       "      <th></th>\n",
       "      <th>Rank</th>\n",
       "      <th>Release_Date</th>\n",
       "      <th>Movie_Title</th>\n",
       "      <th>USD_Production_Budget</th>\n",
       "      <th>USD_Worldwide_Gross</th>\n",
       "      <th>USD_Domestic_Gross</th>\n",
       "    </tr>\n",
       "  </thead>\n",
       "  <tbody>\n",
       "    <tr>\n",
       "      <th>5388</th>\n",
       "      <td>96</td>\n",
       "      <td>2020-12-31</td>\n",
       "      <td>Singularity</td>\n",
       "      <td>175000000</td>\n",
       "      <td>0</td>\n",
       "      <td>0</td>\n",
       "    </tr>\n",
       "    <tr>\n",
       "      <th>5387</th>\n",
       "      <td>126</td>\n",
       "      <td>2018-12-18</td>\n",
       "      <td>Aquaman</td>\n",
       "      <td>160000000</td>\n",
       "      <td>0</td>\n",
       "      <td>0</td>\n",
       "    </tr>\n",
       "    <tr>\n",
       "      <th>5384</th>\n",
       "      <td>321</td>\n",
       "      <td>2018-09-03</td>\n",
       "      <td>A Wrinkle in Time</td>\n",
       "      <td>103000000</td>\n",
       "      <td>0</td>\n",
       "      <td>0</td>\n",
       "    </tr>\n",
       "    <tr>\n",
       "      <th>5385</th>\n",
       "      <td>366</td>\n",
       "      <td>2018-10-08</td>\n",
       "      <td>Amusement Park</td>\n",
       "      <td>100000000</td>\n",
       "      <td>0</td>\n",
       "      <td>0</td>\n",
       "    </tr>\n",
       "    <tr>\n",
       "      <th>5058</th>\n",
       "      <td>880</td>\n",
       "      <td>2015-11-12</td>\n",
       "      <td>The Ridiculous 6</td>\n",
       "      <td>60000000</td>\n",
       "      <td>0</td>\n",
       "      <td>0</td>\n",
       "    </tr>\n",
       "  </tbody>\n",
       "</table>\n",
       "</div>"
      ],
      "text/plain": [
       "      Rank Release_Date        Movie_Title  USD_Production_Budget  \\\n",
       "5388    96   2020-12-31        Singularity              175000000   \n",
       "5387   126   2018-12-18            Aquaman              160000000   \n",
       "5384   321   2018-09-03  A Wrinkle in Time              103000000   \n",
       "5385   366   2018-10-08     Amusement Park              100000000   \n",
       "5058   880   2015-11-12   The Ridiculous 6               60000000   \n",
       "\n",
       "      USD_Worldwide_Gross  USD_Domestic_Gross  \n",
       "5388                    0                   0  \n",
       "5387                    0                   0  \n",
       "5384                    0                   0  \n",
       "5385                    0                   0  \n",
       "5058                    0                   0  "
      ]
     },
     "execution_count": 36,
     "metadata": {},
     "output_type": "execute_result"
    }
   ],
   "source": [
    "df_global_0 = clean_data[clean_data.USD_Worldwide_Gross == 0]\n",
    "df_global_0 = df_global_0.sort_values(\"USD_Production_Budget\", ascending=False)\n",
    "df_global_0.head()"
   ]
  },
  {
   "cell_type": "markdown",
   "metadata": {
    "id": "eXUDzWpeyV2f"
   },
   "source": [
    "### Filtering on Multiple Conditions"
   ]
  },
  {
   "cell_type": "code",
   "execution_count": null,
   "metadata": {
    "id": "dLd3eeD9TZZ9"
   },
   "outputs": [],
   "source": []
  },
  {
   "cell_type": "markdown",
   "metadata": {
    "id": "YruPjqLVPuiB"
   },
   "source": [
    "**Challenge**: Use the [`.query()` function](https://pandas.pydata.org/pandas-docs/stable/reference/api/pandas.DataFrame.query.html) to accomplish the same thing. Create a subset for international releases that had some worldwide gross revenue, but made zero revenue in the United States. \n",
    "\n",
    "Hint: This time you'll have to use the `and` keyword."
   ]
  },
  {
   "cell_type": "code",
   "execution_count": 39,
   "metadata": {
    "id": "Xvu-jTCwTavg"
   },
   "outputs": [
    {
     "data": {
      "text/html": [
       "<div>\n",
       "<style scoped>\n",
       "    .dataframe tbody tr th:only-of-type {\n",
       "        vertical-align: middle;\n",
       "    }\n",
       "\n",
       "    .dataframe tbody tr th {\n",
       "        vertical-align: top;\n",
       "    }\n",
       "\n",
       "    .dataframe thead th {\n",
       "        text-align: right;\n",
       "    }\n",
       "</style>\n",
       "<table border=\"1\" class=\"dataframe\">\n",
       "  <thead>\n",
       "    <tr style=\"text-align: right;\">\n",
       "      <th></th>\n",
       "      <th>Rank</th>\n",
       "      <th>Release_Date</th>\n",
       "      <th>Movie_Title</th>\n",
       "      <th>USD_Production_Budget</th>\n",
       "      <th>USD_Worldwide_Gross</th>\n",
       "      <th>USD_Domestic_Gross</th>\n",
       "    </tr>\n",
       "  </thead>\n",
       "  <tbody>\n",
       "    <tr>\n",
       "      <th>71</th>\n",
       "      <td>4310</td>\n",
       "      <td>1956-02-16</td>\n",
       "      <td>Carousel</td>\n",
       "      <td>3380000</td>\n",
       "      <td>3220</td>\n",
       "      <td>0</td>\n",
       "    </tr>\n",
       "    <tr>\n",
       "      <th>1579</th>\n",
       "      <td>5087</td>\n",
       "      <td>2001-02-11</td>\n",
       "      <td>Everything Put Together</td>\n",
       "      <td>500000</td>\n",
       "      <td>7890</td>\n",
       "      <td>0</td>\n",
       "    </tr>\n",
       "    <tr>\n",
       "      <th>1744</th>\n",
       "      <td>3695</td>\n",
       "      <td>2001-12-31</td>\n",
       "      <td>The Hole</td>\n",
       "      <td>7500000</td>\n",
       "      <td>10834406</td>\n",
       "      <td>0</td>\n",
       "    </tr>\n",
       "    <tr>\n",
       "      <th>2155</th>\n",
       "      <td>4236</td>\n",
       "      <td>2003-12-31</td>\n",
       "      <td>Nothing</td>\n",
       "      <td>4000000</td>\n",
       "      <td>63180</td>\n",
       "      <td>0</td>\n",
       "    </tr>\n",
       "    <tr>\n",
       "      <th>2203</th>\n",
       "      <td>2513</td>\n",
       "      <td>2004-03-31</td>\n",
       "      <td>The Touch</td>\n",
       "      <td>20000000</td>\n",
       "      <td>5918742</td>\n",
       "      <td>0</td>\n",
       "    </tr>\n",
       "  </tbody>\n",
       "</table>\n",
       "</div>"
      ],
      "text/plain": [
       "      Rank Release_Date              Movie_Title  USD_Production_Budget  \\\n",
       "71    4310   1956-02-16                 Carousel                3380000   \n",
       "1579  5087   2001-02-11  Everything Put Together                 500000   \n",
       "1744  3695   2001-12-31                 The Hole                7500000   \n",
       "2155  4236   2003-12-31                  Nothing                4000000   \n",
       "2203  2513   2004-03-31                The Touch               20000000   \n",
       "\n",
       "      USD_Worldwide_Gross  USD_Domestic_Gross  \n",
       "71                   3220                   0  \n",
       "1579                 7890                   0  \n",
       "1744             10834406                   0  \n",
       "2155                63180                   0  \n",
       "2203              5918742                   0  "
      ]
     },
     "execution_count": 39,
     "metadata": {},
     "output_type": "execute_result"
    }
   ],
   "source": [
    "# Filtering with the query() method\n",
    "# Geetting list of all the movies that made a worldwide revenue and didnt make any in the United states\n",
    "new_data = clean_data.query('USD_Worldwide_Gross != 0 and USD_Domestic_Gross == 0')\n",
    "new_data.head()"
   ]
  },
  {
   "cell_type": "markdown",
   "metadata": {
    "id": "EM-FTE4OZhfr"
   },
   "source": [
    "### Unreleased Films\n",
    "\n",
    "**Challenge**:\n",
    "* Identify which films were not released yet as of the time of data collection (May 1st, 2018).\n",
    "* How many films are included in the dataset that have not yet had a chance to be screened in the box office? \n",
    "* Create another DataFrame called data_clean that does not include these films. "
   ]
  },
  {
   "cell_type": "code",
   "execution_count": 43,
   "metadata": {
    "id": "PIukYVY9Zpxu"
   },
   "outputs": [
    {
     "data": {
      "text/html": [
       "<div>\n",
       "<style scoped>\n",
       "    .dataframe tbody tr th:only-of-type {\n",
       "        vertical-align: middle;\n",
       "    }\n",
       "\n",
       "    .dataframe tbody tr th {\n",
       "        vertical-align: top;\n",
       "    }\n",
       "\n",
       "    .dataframe thead th {\n",
       "        text-align: right;\n",
       "    }\n",
       "</style>\n",
       "<table border=\"1\" class=\"dataframe\">\n",
       "  <thead>\n",
       "    <tr style=\"text-align: right;\">\n",
       "      <th></th>\n",
       "      <th>Rank</th>\n",
       "      <th>Release_Date</th>\n",
       "      <th>Movie_Title</th>\n",
       "      <th>USD_Production_Budget</th>\n",
       "      <th>USD_Worldwide_Gross</th>\n",
       "      <th>USD_Domestic_Gross</th>\n",
       "    </tr>\n",
       "  </thead>\n",
       "  <tbody>\n",
       "    <tr>\n",
       "      <th>5384</th>\n",
       "      <td>321</td>\n",
       "      <td>2018-09-03</td>\n",
       "      <td>A Wrinkle in Time</td>\n",
       "      <td>103000000</td>\n",
       "      <td>0</td>\n",
       "      <td>0</td>\n",
       "    </tr>\n",
       "    <tr>\n",
       "      <th>5385</th>\n",
       "      <td>366</td>\n",
       "      <td>2018-10-08</td>\n",
       "      <td>Amusement Park</td>\n",
       "      <td>100000000</td>\n",
       "      <td>0</td>\n",
       "      <td>0</td>\n",
       "    </tr>\n",
       "    <tr>\n",
       "      <th>5386</th>\n",
       "      <td>2950</td>\n",
       "      <td>2018-10-08</td>\n",
       "      <td>Meg</td>\n",
       "      <td>15000000</td>\n",
       "      <td>0</td>\n",
       "      <td>0</td>\n",
       "    </tr>\n",
       "    <tr>\n",
       "      <th>5387</th>\n",
       "      <td>126</td>\n",
       "      <td>2018-12-18</td>\n",
       "      <td>Aquaman</td>\n",
       "      <td>160000000</td>\n",
       "      <td>0</td>\n",
       "      <td>0</td>\n",
       "    </tr>\n",
       "    <tr>\n",
       "      <th>5388</th>\n",
       "      <td>96</td>\n",
       "      <td>2020-12-31</td>\n",
       "      <td>Singularity</td>\n",
       "      <td>175000000</td>\n",
       "      <td>0</td>\n",
       "      <td>0</td>\n",
       "    </tr>\n",
       "  </tbody>\n",
       "</table>\n",
       "</div>"
      ],
      "text/plain": [
       "      Rank Release_Date        Movie_Title  USD_Production_Budget  \\\n",
       "5384   321   2018-09-03  A Wrinkle in Time              103000000   \n",
       "5385   366   2018-10-08     Amusement Park              100000000   \n",
       "5386  2950   2018-10-08                Meg               15000000   \n",
       "5387   126   2018-12-18            Aquaman              160000000   \n",
       "5388    96   2020-12-31        Singularity              175000000   \n",
       "\n",
       "      USD_Worldwide_Gross  USD_Domestic_Gross  \n",
       "5384                    0                   0  \n",
       "5385                    0                   0  \n",
       "5386                    0                   0  \n",
       "5387                    0                   0  \n",
       "5388                    0                   0  "
      ]
     },
     "execution_count": 43,
     "metadata": {},
     "output_type": "execute_result"
    }
   ],
   "source": [
    "# Date of Data Collection\n",
    "scrape_date = pd.Timestamp('2018-5-1')\n",
    "future_releases = clean_data[clean_data.Release_Date >= scrape_date]\n",
    "future_releases.head()"
   ]
  },
  {
   "cell_type": "code",
   "execution_count": null,
   "metadata": {
    "id": "OAI0VsM3Tc6v"
   },
   "outputs": [],
   "source": []
  },
  {
   "cell_type": "markdown",
   "metadata": {
    "id": "khrJcXlGZWZO"
   },
   "source": [
    "### Films that Lost Money\n",
    "\n",
    "**Challenge**: \n",
    "What is the percentage of films where the production costs exceeded the worldwide gross revenue? "
   ]
  },
  {
   "cell_type": "code",
   "execution_count": 45,
   "metadata": {
    "id": "7uW_U9StTgvZ"
   },
   "outputs": [
    {
     "data": {
      "text/html": [
       "<div>\n",
       "<style scoped>\n",
       "    .dataframe tbody tr th:only-of-type {\n",
       "        vertical-align: middle;\n",
       "    }\n",
       "\n",
       "    .dataframe tbody tr th {\n",
       "        vertical-align: top;\n",
       "    }\n",
       "\n",
       "    .dataframe thead th {\n",
       "        text-align: right;\n",
       "    }\n",
       "</style>\n",
       "<table border=\"1\" class=\"dataframe\">\n",
       "  <thead>\n",
       "    <tr style=\"text-align: right;\">\n",
       "      <th></th>\n",
       "      <th>Rank</th>\n",
       "      <th>Release_Date</th>\n",
       "      <th>Movie_Title</th>\n",
       "      <th>USD_Production_Budget</th>\n",
       "      <th>USD_Worldwide_Gross</th>\n",
       "      <th>USD_Domestic_Gross</th>\n",
       "    </tr>\n",
       "  </thead>\n",
       "  <tbody>\n",
       "    <tr>\n",
       "      <th>1</th>\n",
       "      <td>5140</td>\n",
       "      <td>1916-05-09</td>\n",
       "      <td>Intolerance</td>\n",
       "      <td>385907</td>\n",
       "      <td>0</td>\n",
       "      <td>0</td>\n",
       "    </tr>\n",
       "    <tr>\n",
       "      <th>6</th>\n",
       "      <td>4630</td>\n",
       "      <td>1927-12-08</td>\n",
       "      <td>Wings</td>\n",
       "      <td>2000000</td>\n",
       "      <td>0</td>\n",
       "      <td>0</td>\n",
       "    </tr>\n",
       "    <tr>\n",
       "      <th>8</th>\n",
       "      <td>4240</td>\n",
       "      <td>1930-01-01</td>\n",
       "      <td>Hell's Angels</td>\n",
       "      <td>4000000</td>\n",
       "      <td>0</td>\n",
       "      <td>0</td>\n",
       "    </tr>\n",
       "    <tr>\n",
       "      <th>15</th>\n",
       "      <td>4738</td>\n",
       "      <td>1936-05-02</td>\n",
       "      <td>Modern Times</td>\n",
       "      <td>1500000</td>\n",
       "      <td>165049</td>\n",
       "      <td>163245</td>\n",
       "    </tr>\n",
       "    <tr>\n",
       "      <th>17</th>\n",
       "      <td>4814</td>\n",
       "      <td>1936-10-20</td>\n",
       "      <td>Charge of the Light Brigade, The</td>\n",
       "      <td>1200000</td>\n",
       "      <td>0</td>\n",
       "      <td>0</td>\n",
       "    </tr>\n",
       "  </tbody>\n",
       "</table>\n",
       "</div>"
      ],
      "text/plain": [
       "    Rank Release_Date                       Movie_Title  \\\n",
       "1   5140   1916-05-09                       Intolerance   \n",
       "6   4630   1927-12-08                             Wings   \n",
       "8   4240   1930-01-01                     Hell's Angels   \n",
       "15  4738   1936-05-02                      Modern Times   \n",
       "17  4814   1936-10-20  Charge of the Light Brigade, The   \n",
       "\n",
       "    USD_Production_Budget  USD_Worldwide_Gross  USD_Domestic_Gross  \n",
       "1                  385907                    0                   0  \n",
       "6                 2000000                    0                   0  \n",
       "8                 4000000                    0                   0  \n",
       "15                1500000               165049              163245  \n",
       "17                1200000                    0                   0  "
      ]
     },
     "execution_count": 45,
     "metadata": {},
     "output_type": "execute_result"
    }
   ],
   "source": [
    "films_lost_money = clean_data[clean_data['USD_Production_Budget'] > clean_data['USD_Worldwide_Gross']]\n",
    "films_lost_money.head()"
   ]
  },
  {
   "cell_type": "markdown",
   "metadata": {
    "id": "cfJUL3WwyiDy"
   },
   "source": [
    "# Seaborn for Data Viz: Bubble Charts"
   ]
  },
  {
   "cell_type": "code",
   "execution_count": null,
   "metadata": {
    "id": "YXa3bp1uTiSS"
   },
   "outputs": [],
   "source": []
  },
  {
   "cell_type": "markdown",
   "metadata": {
    "id": "e7NIOiL2y3en"
   },
   "source": [
    "### Plotting Movie Releases over Time\n",
    "\n",
    "**Challenge**: Try to create the following Bubble Chart:\n",
    "\n",
    "<img src=https://i.imgur.com/8fUn9T6.png>\n",
    "\n"
   ]
  },
  {
   "cell_type": "code",
   "execution_count": null,
   "metadata": {
    "id": "OT0D-i3HTmsB"
   },
   "outputs": [],
   "source": []
  },
  {
   "cell_type": "markdown",
   "metadata": {
    "id": "r_2hFz9py84b"
   },
   "source": [
    "# Converting Years to Decades Trick\n",
    "\n",
    "**Challenge**: Create a column in `data_clean` that has the decade of the release. \n",
    "\n",
    "<img src=https://i.imgur.com/0VEfagw.png width=650> \n",
    "\n",
    "Here's how: \n",
    "1. Create a [`DatetimeIndex` object](https://pandas.pydata.org/pandas-docs/stable/reference/api/pandas.DatetimeIndex.html) from the Release_Date column. \n",
    "2. Grab all the years from the `DatetimeIndex` object using the `.year` property.\n",
    "<img src=https://i.imgur.com/5m06Ach.png width=650>\n",
    "3. Use floor division `//` to convert the year data to the decades of the films.\n",
    "4. Add the decades as a `Decade` column to the `data_clean` DataFrame."
   ]
  },
  {
   "cell_type": "code",
   "execution_count": null,
   "metadata": {
    "id": "lak08IPMTn-j"
   },
   "outputs": [],
   "source": []
  },
  {
   "cell_type": "markdown",
   "metadata": {
    "id": "q-X7NK_9zIz9"
   },
   "source": [
    "### Separate the \"old\" (before 1969) and \"New\" (1970s onwards) Films\n",
    "\n",
    "**Challenge**: Create two new DataFrames: `old_films` and `new_films`\n",
    "* `old_films` should include all the films before 1969 (up to and including 1969)\n",
    "* `new_films` should include all the films from 1970 onwards\n",
    "* How many films were released prior to 1970?\n",
    "* What was the most expensive film made prior to 1970?"
   ]
  },
  {
   "cell_type": "code",
   "execution_count": null,
   "metadata": {
    "id": "qe93nMcBTqQz"
   },
   "outputs": [],
   "source": []
  },
  {
   "cell_type": "markdown",
   "metadata": {
    "id": "msXABzF3zW7e"
   },
   "source": [
    "# Seaborn Regression Plots"
   ]
  },
  {
   "cell_type": "code",
   "execution_count": null,
   "metadata": {
    "id": "2ajPcWMJTsom"
   },
   "outputs": [],
   "source": []
  },
  {
   "cell_type": "markdown",
   "metadata": {
    "id": "6k4MeLmxWFwX"
   },
   "source": [
    "**Challenge**: Use Seaborn's `.regplot()` to show the scatter plot and linear regression line against the `new_films`. \n",
    "<br>\n",
    "<br>\n",
    "Style the chart\n",
    "\n",
    "* Put the chart on a `'darkgrid'`.\n",
    "* Set limits on the axes so that they don't show negative values.\n",
    "* Label the axes on the plot \"Revenue in \\$ billions\" and \"Budget in \\$ millions\".\n",
    "* Provide HEX colour codes for the plot and the regression line. Make the dots dark blue (#2f4b7c) and the line orange (#ff7c43).\n",
    "\n",
    "Interpret the chart\n",
    "\n",
    "* Do our data points for the new films align better or worse with the linear regression than for our older films?\n",
    "* Roughly how much would a film with a budget of $150 million make according to the regression line?"
   ]
  },
  {
   "cell_type": "code",
   "execution_count": null,
   "metadata": {
    "id": "6cOVsxqvTui2"
   },
   "outputs": [],
   "source": []
  },
  {
   "cell_type": "markdown",
   "metadata": {
    "id": "Q1SUPPMAzlVK"
   },
   "source": [
    "# Run Your Own Regression with scikit-learn\n",
    "\n",
    "$$ REV \\hat ENUE = \\theta _0 + \\theta _1 BUDGET$$"
   ]
  },
  {
   "cell_type": "code",
   "execution_count": null,
   "metadata": {
    "id": "QmX-wMMLTwBW"
   },
   "outputs": [],
   "source": []
  },
  {
   "cell_type": "markdown",
   "metadata": {
    "id": "o23E9iT1RHQ1"
   },
   "source": [
    "**Challenge**: Run a linear regression for the `old_films`. Calculate the intercept, slope and r-squared. How much of the variance in movie revenue does the linear model explain in this case?"
   ]
  },
  {
   "cell_type": "code",
   "execution_count": null,
   "metadata": {
    "id": "Sd43DJNDT0yQ"
   },
   "outputs": [],
   "source": []
  },
  {
   "cell_type": "code",
   "execution_count": null,
   "metadata": {
    "id": "ygKsLBx5Rs7t"
   },
   "outputs": [],
   "source": []
  },
  {
   "cell_type": "markdown",
   "metadata": {
    "id": "hoD3PeG75p78"
   },
   "source": [
    "# Use Your Model to Make a Prediction\n",
    "\n",
    "We just estimated the slope and intercept! Remember that our Linear Model has the following form:\n",
    "\n",
    "$$ REV \\hat ENUE = \\theta _0 + \\theta _1 BUDGET$$\n",
    "\n",
    "**Challenge**:  How much global revenue does our model estimate for a film with a budget of $350 million? "
   ]
  },
  {
   "cell_type": "code",
   "execution_count": null,
   "metadata": {
    "id": "fX4I4h5i5rgF"
   },
   "outputs": [],
   "source": []
  },
  {
   "cell_type": "code",
   "execution_count": null,
   "metadata": {
    "id": "fB2Yp8ln5qfO"
   },
   "outputs": [],
   "source": []
  }
 ],
 "metadata": {
  "colab": {
   "name": "Seaborn and Linear Regression (start).ipynb",
   "provenance": []
  },
  "kernelspec": {
   "display_name": "Python 3 (ipykernel)",
   "language": "python",
   "name": "python3"
  },
  "language_info": {
   "codemirror_mode": {
    "name": "ipython",
    "version": 3
   },
   "file_extension": ".py",
   "mimetype": "text/x-python",
   "name": "python",
   "nbconvert_exporter": "python",
   "pygments_lexer": "ipython3",
   "version": "3.9.12"
  }
 },
 "nbformat": 4,
 "nbformat_minor": 1
}
